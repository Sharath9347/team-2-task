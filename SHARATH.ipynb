{
 "cells": [
  {
   "cell_type": "markdown",
   "id": "c504b0dc",
   "metadata": {},
   "source": [
    "# 1342.'Number of Steps to Reduce a Number to Zero'"
   ]
  },
  {
   "cell_type": "markdown",
   "id": "a067a8b5",
   "metadata": {},
   "source": [
    "Explanation:\n",
    "\n",
    "In this problem we show that how we reduce a Number to Zero.\n",
    "\n",
    "Here according to the problem we have taken a positive integer '6' and repeatedely apply two operations.\n",
    "\n",
    "1.If the number is even, divide it by 2.\n",
    "\n",
    "2.If the number is odd, subtract 1."
   ]
  },
  {
   "cell_type": "markdown",
   "id": "c7e22671",
   "metadata": {},
   "source": [
    "CODE:"
   ]
  },
  {
   "cell_type": "code",
   "execution_count": 6,
   "id": "2a0caf4d",
   "metadata": {},
   "outputs": [
    {
     "name": "stdout",
     "output_type": "stream",
     "text": [
      " Enter an  positive  integer: 6\n",
      "Number of steps to reduce the integer to zero: 4\n"
     ]
    }
   ],
   "source": [
    "num = int(input(\" Enter an  positive  integer: \"))\n",
    "steps = 0\n",
    "while num != 0:\n",
    "    if num % 2 == 0:\n",
    "        num = num // 2\n",
    "    else:\n",
    "        num = num - 1\n",
    "\n",
    "    steps += 1\n",
    "\n",
    "print(f\"Number of steps to reduce the integer to zero: {steps}\")\n"
   ]
  },
  {
   "cell_type": "markdown",
   "id": "c290045c",
   "metadata": {},
   "source": [
    "GOAL:"
   ]
  },
  {
   "cell_type": "markdown",
   "id": "7d65dd5f",
   "metadata": {},
   "source": [
    "The goal is to find the minimum number of steps required to reduce the given number to zero using these operations. This problem is a dynamic programming. The challenge is to minimize the number of steps needed to reach zero from a given starting number.\n"
   ]
  },
  {
   "cell_type": "markdown",
   "id": "af8570a4",
   "metadata": {},
   "source": [
    "  "
   ]
  },
  {
   "cell_type": "markdown",
   "id": "be46a8db",
   "metadata": {},
   "source": [
    "# 1313.'Decompress Run-Length Encoded List'"
   ]
  },
  {
   "cell_type": "markdown",
   "id": "dd0cfb25",
   "metadata": {},
   "source": [
    "it involves in decompressing a list that is encoded in a run-length format. The input is a list of pairs where each pair represents a value and its frequency. The task is to reconstruct the original list by repeating each value according to its frequency. For example, given the input [a, b, c, d], the output should be a list where 'a' appears 'b' times, 'c' appears 'd' times, and so on.\n",
    "\n",
    "Here's a brief overview of the steps:\n",
    "\n",
    "Iterate through the input list by pairs (frequency, value).\n",
    "For each pair, append the value to the output list repeated the specified number of times.\n",
    "For example:\n",
    "Input: [1, 2, 3, 4]\n",
    "\n",
    "Explanation: The first pair (1, 2) indicates that '2' should appear once. The second pair (3, 4) indicates that '4' should appear three times. "
   ]
  },
  {
   "cell_type": "markdown",
   "id": "b5d40479",
   "metadata": {},
   "source": [
    "CODE:"
   ]
  },
  {
   "cell_type": "code",
   "execution_count": 17,
   "id": "4a08822d",
   "metadata": {},
   "outputs": [
    {
     "name": "stdout",
     "output_type": "stream",
     "text": [
      "[2, 4, 4, 4]\n"
     ]
    }
   ],
   "source": [
    "encoded_list = [1, 2, 3, 4]\n",
    "decoded_list = []\n",
    "for i in range(0, len(encoded_list), 2):\n",
    "    frequency = encoded_list[i]\n",
    "    value = encoded_list[i + 1]\n",
    "    decoded_list.extend([value] * frequency)\n",
    "print(decoded_list)"
   ]
  },
  {
   "cell_type": "markdown",
   "id": "06267409",
   "metadata": {},
   "source": [
    "GOAL:"
   ]
  },
  {
   "cell_type": "markdown",
   "id": "8cd2c548",
   "metadata": {},
   "source": [
    "By Implementing a function named decompress that takes a list of integers as input, where each pair of consecutive integers represents a value and its frequency in a run-length encoded format. The function should return the decompressed list, where each value is repeated according to its frequency."
   ]
  },
  {
   "cell_type": "markdown",
   "id": "beab11a1",
   "metadata": {},
   "source": [
    "   "
   ]
  },
  {
   "cell_type": "markdown",
   "id": "ad088929",
   "metadata": {},
   "source": [
    "  "
   ]
  },
  {
   "cell_type": "markdown",
   "id": "7fc613b0",
   "metadata": {},
   "source": [
    "# 1303.'Find the Team Size'\t"
   ]
  },
  {
   "cell_type": "markdown",
   "id": "7945ab74",
   "metadata": {},
   "source": [
    "EXPLANATION:\n",
    "\n",
    "\"Find the Team Size\" typically refers to determining the number of individuals in a group or project team. It involves assessing the manpower required to efficiently accomplish tasks, meet goals, or complete a project successfully. Team size can vary based on project complexity, scope, and available resources. Balancing a team's size is crucial for effective collaboration, communication, and overall productivity."
   ]
  },
  {
   "cell_type": "markdown",
   "id": "1f1d8928",
   "metadata": {},
   "source": [
    "CODE:"
   ]
  },
  {
   "cell_type": "code",
   "execution_count": 19,
   "id": "e454aea5",
   "metadata": {},
   "outputs": [
    {
     "name": "stdout",
     "output_type": "stream",
     "text": [
      "Enter the number of tasks: 12\n",
      "Enter the average workload per person: 4\n",
      "The recommended team size is: 3\n"
     ]
    }
   ],
   "source": [
    "num_tasks = int(input(\"Enter the number of tasks: \"))\n",
    "avg_workload = int(input(\"Enter the average workload per person: \"))\n",
    "team_size = num_tasks // avg_workload + (num_tasks % avg_workload > 0)\n",
    "print(\"The recommended team size is:\", team_size)\n"
   ]
  },
  {
   "cell_type": "markdown",
   "id": "3c618b46",
   "metadata": {},
   "source": [
    "GOAL:"
   ]
  },
  {
   "cell_type": "markdown",
   "id": "26f98381",
   "metadata": {},
   "source": [
    "The goal is to find the team size where to complete the tasks per person according to there work load"
   ]
  },
  {
   "cell_type": "markdown",
   "id": "2c28c274",
   "metadata": {},
   "source": [
    "# 1281.'Subtract the Product and Sum of Digits of an Integer'\t\t\t\t\t\t"
   ]
  },
  {
   "cell_type": "markdown",
   "id": "27161ac5",
   "metadata": {},
   "source": [
    "EXPLANATION:\n",
    "\n",
    "The task \"Subtract the Product and Sum of Digits of an Integer\" involves taking an integer, finding the product of its digits, finding the sum of its digits, and then subtracting the sum from the product."
   ]
  },
  {
   "cell_type": "markdown",
   "id": "3e85ea80",
   "metadata": {},
   "source": [
    "CODE:"
   ]
  },
  {
   "cell_type": "code",
   "execution_count": 18,
   "id": "4801a0b8",
   "metadata": {},
   "outputs": [
    {
     "name": "stdout",
     "output_type": "stream",
     "text": [
      "Enter an integer: 95\n",
      "Result: 31\n"
     ]
    }
   ],
   "source": [
    "num = int(input(\"Enter an integer: \"))\n",
    "product = 1\n",
    "sum_of_digits = 0\n",
    "while num > 0:\n",
    "    digit = num % 10\n",
    "    product *= digit\n",
    "    sum_of_digits += digit\n",
    "    num //= 10\n",
    "result = product - sum_of_digits\n",
    "print(\"Result:\", result)\n"
   ]
  },
  {
   "cell_type": "markdown",
   "id": "07641f8f",
   "metadata": {},
   "source": [
    "GOAL:"
   ]
  },
  {
   "cell_type": "markdown",
   "id": "c0752e25",
   "metadata": {},
   "source": [
    "The goal is to take an integer as input, calculate the product and sum of its digits, and then subtract the sum from the product."
   ]
  }
 ],
 "metadata": {
  "kernelspec": {
   "display_name": "Python 3 (ipykernel)",
   "language": "python",
   "name": "python3"
  },
  "language_info": {
   "codemirror_mode": {
    "name": "ipython",
    "version": 3
   },
   "file_extension": ".py",
   "mimetype": "text/x-python",
   "name": "python",
   "nbconvert_exporter": "python",
   "pygments_lexer": "ipython3",
   "version": "3.11.5"
  }
 },
 "nbformat": 4,
 "nbformat_minor": 5
}
